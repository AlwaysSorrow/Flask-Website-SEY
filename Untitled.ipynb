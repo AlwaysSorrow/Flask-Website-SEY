{
 "cells": [
  {
   "cell_type": "code",
   "execution_count": 1,
   "id": "418be116",
   "metadata": {},
   "outputs": [],
   "source": [
    "# Egor Sasha Yuliya"
   ]
  },
  {
   "cell_type": "code",
   "execution_count": 5,
   "id": "db1d24a2",
   "metadata": {},
   "outputs": [
    {
     "ename": "SyntaxError",
     "evalue": "invalid character in identifier (Temp/ipykernel_20240/2872520928.py, line 3)",
     "output_type": "error",
     "traceback": [
      "\u001b[1;36m  File \u001b[1;32m\"C:\\Users\\User\\AppData\\Local\\Temp/ipykernel_20240/2872520928.py\"\u001b[1;36m, line \u001b[1;32m3\u001b[0m\n\u001b[1;33m    @app.route(‘/’)\u001b[0m\n\u001b[1;37m               ^\u001b[0m\n\u001b[1;31mSyntaxError\u001b[0m\u001b[1;31m:\u001b[0m invalid character in identifier\n"
     ]
    }
   ],
   "source": [
    "from flask import Flask\n",
    "app = Flask(__name__)\n",
    "@app.route(‘/’)\n",
    "def home():\n",
    "return “hey there!”\n",
    "if __name__ == “__main__”:\n",
    "app.run(debug= True)"
   ]
  },
  {
   "cell_type": "code",
   "execution_count": null,
   "id": "7d178c22",
   "metadata": {},
   "outputs": [],
   "source": []
  }
 ],
 "metadata": {
  "kernelspec": {
   "display_name": "Python 3 (ipykernel)",
   "language": "python",
   "name": "python3"
  },
  "language_info": {
   "codemirror_mode": {
    "name": "ipython",
    "version": 3
   },
   "file_extension": ".py",
   "mimetype": "text/x-python",
   "name": "python",
   "nbconvert_exporter": "python",
   "pygments_lexer": "ipython3",
   "version": "3.8.12"
  }
 },
 "nbformat": 4,
 "nbformat_minor": 5
}
